{
  "metadata": {
    "colab": {
      "collapsed_sections": [],
      "name": "PandasAndSQL.ipynb",
      "provenance": []
    },
    "kernelspec": {
      "display_name": "ml1-arm64",
      "language": "python",
      "name": "ml1-arm64"
    },
    "language_info": {
      "codemirror_mode": {
        "name": "ipython",
        "version": 3
      },
      "file_extension": ".py",
      "mimetype": "text/x-python",
      "name": "python",
      "nbconvert_exporter": "python",
      "pygments_lexer": "ipython3",
      "version": "3.9.1"
    }
  },
  "nbformat": 4,
  "nbformat_minor": 4,
  "cells": [
    {
      "cell_type": "markdown",
      "metadata": {
        "id": "uh-ii02vm_cw"
      },
      "source": [
        "# The Tabular Data Model"
      ]
    },
    {
      "cell_type": "code",
      "execution_count": 1,
      "metadata": {
        "id": "7Ll0s-DBm_c8"
      },
      "outputs": [],
      "source": [
        "import pandas as pd"
      ]
    },
    {
      "cell_type": "code",
      "execution_count": 2,
      "metadata": {
        "id": "FmMwYAmcm_dM"
      },
      "outputs": [],
      "source": [
        "from collections import OrderedDict\n",
        "def make_frame(list_of_tuples, legend):\n",
        "    framelist=[]\n",
        "    for i, cname in enumerate(legend):\n",
        "        framelist.append((cname,[e[i] for e in list_of_tuples]))\n",
        "    return pd.DataFrame.from_dict(OrderedDict(framelist)) "
      ]
    },
    {
      "cell_type": "markdown",
      "metadata": {
        "id": "tuvTxHNlrja9"
      },
      "source": [
        "## Pandas"
      ]
    },
    {
      "cell_type": "markdown",
      "metadata": {},
      "source": [
        "Here is what the data looks like from the file `data/candidates.txt`\n",
        "\n",
        "```\n",
        "id|first_name|last_name|middle_name|party\n",
        "33|Joseph|Biden||D\n",
        "36|Samuel|Brownback||R\n",
        "34|Hillary|Clinton|R.|D\n",
        "39|Christopher|Dodd|J.|D\n",
        "26|John|Edwards||D\n",
        "22|Rudolph|Giuliani||R\n",
        "24|Mike|Gravel||D\n",
        "16|Mike|Huckabee||R\n",
        "30|Duncan|Hunter||R\n",
        "31|Dennis|Kucinich||D\n",
        "37|John|McCain||R\n",
        "20|Barack|Obama||D\n",
        "32|Ron|Paul||R\n",
        "29|Bill|Richardson||D\n",
        "35|Mitt|Romney||R\n",
        "38|Tom|Tancredo||R\n",
        "41|Fred|Thompson|D.|R\n",
        "```"
      ]
    },
    {
      "cell_type": "markdown",
      "metadata": {
        "id": "nzeyEr0Qm_dA"
      },
      "source": [
        "Use Pandas to read in the data"
      ]
    },
    {
      "cell_type": "code",
      "execution_count": 3,
      "metadata": {
        "colab": {
          "base_uri": "https://localhost:8080/",
          "height": 576
        },
        "collapsed": false,
        "id": "b8PbZAfym_dA",
        "jupyter": {
          "outputs_hidden": false
        },
        "outputId": "4f3c4e8f-7855-4b16-987f-d215dbba424d"
      },
      "outputs": [],
      "source": [
        "dfcand=pd.read_csv(\"data/candidates.txt\", sep='|')\n",
        "dfcand"
      ]
    },
    {
      "cell_type": "markdown",
      "metadata": {},
      "source": [
        "Here is the other file, of contributions to candidates:\n",
        "\n",
        "```\n",
        "id|last_name|first_name|middle_name|street_1|street_2|city|state|zip|amount|date|candidate_id\n",
        "|Agee|Steven||549 Laurel Branch Road||Floyd|VA|24091|500.00|2007-06-30|16\n",
        "|Ahrens|Don||4034 Rennellwood Way||Pleasanton|CA|94566|250.00|2007-05-16|16\n",
        "|Ahrens|Don||4034 Rennellwood Way||Pleasanton|CA|94566|50.00|2007-06-18|16\n",
        "|Ahrens|Don||4034 Rennellwood Way||Pleasanton|CA|94566|100.00|2007-06-21|16\n",
        "|Akin|Charles||10187 Sugar Creek Road||Bentonville|AR|72712|100.00|2007-06-16|16\n",
        "|Akin|Mike||181 Baywood Lane||Monticello|AR|71655|1500.00|2007-05-18|16\n",
        "|Akin|Rebecca||181 Baywood Lane||Monticello|AR|71655|500.00|2007-05-18|16\n",
        "|Aldridge|Brittni||808 Capitol Square Place, SW||Washington|DC|20024|250.00|2007-06-06|16\n",
        "|Allen|John D.||1052 Cannon Mill Drive||North Augusta|SC|29860|1000.00|2007-06-11|16\n",
        "|Allen|John D.||1052 Cannon Mill Drive||North Augusta|SC|29860|1300.00|2007-06-29|16\n",
        "|Allison|John W.||P.O. Box 1089||Conway|AR|72033|1000.00|2007-05-18|16\n",
        "|Allison|Rebecca||3206 Summit Court||Little Rock|AR|72227|1000.00|2007-04-25|16\n",
        "|Allison|Rebecca||3206 Summit Court||Little Rock|AR|72227|200.00|2007-06-12|16\n",
        "|Altes|R.D.||8600 Moody Road||Fort Smith|AR|72903|2300.00|2007-06-21|16\n",
        "|Andres|Dale||1160 Glen Oaks Drive||West Des Moines|IA|50266|250.00|2007-06-06|16\n",
        "|Anthony|John||211 Long Island Drive||Hot Springs|AR|71913|2300.00|2007-06-12|16\n",
        "|Arbogast|Robert||12900 State Route 56 SE||Mount Sterling|OH|43143|500.00|2007-04-08|16\n",
        "|Arbogast|Robert||12900 State Route 56 SE||Mount Sterling|OH|43143|100.00|2007-06-22|16\n",
        "|Ardle|William||412 Dakota Avenue||Springfield|OH|45504|50.00|2007-06-28|16\n",
        "|Atiq|Omar||7200 S Hazel Street||Pine Bluff|AR|71603|1000.00|2007-05-18|16\n",
        "|Atiq|Omar||7200 S Hazel Street||Pine Bluff|AR|71603|1000.00|2007-06-27|16\n",
        "|Baker|David||2550 Adamsbrooke Drive||Conway|AR|72034|2300.00|2007-04-11|16\n",
        "|Bancroft|David||2934 Broderick Street||San Francisco|CA|94123|250.00|2007-04-24|16\n",
        "|Banks|Charles||P.O. Box 251310||Little Rock|AR|72225|1000.00|2007-05-14|16\n",
        "|Barbee|John||516 Kellyridge Drive||Apex|NC|27502|500.00|2007-05-23|16\n",
        "|Buckler|Steve||24351 Armada Dr||Dana Point|CA|926291306|50.00|2007-07-30|20\n",
        "|Buckler|Steve||24351 Armada Dr||Dana Point|CA|926291306|25.00|2007-08-16|20\n",
        "|Buckheit|Bruce||8904 KAREN DR||FAIRFAX|VA|220312731|100.00|2007-09-19|20\n",
        "|Buckel|Linda||PO Box 683130||Park City|UT|840683130|2300.00|2007-08-14|20\n",
        "|Buckel|Linda||PO Box 683130||Park City|UT|840683130|-2300.00|2007-08-14|20\n",
        "|Buckel|Linda||PO Box 683130||Park City|UT|840683130|4600.00|2007-08-14|20\n",
        "|Buck|Thomas||4206 Terrace Street||Kansas City|MO|64111|100.00|2007-09-25|20\n",
        "|Buck|Jay|K.|1855 Old Willow Rd Unit 322||Northfield|IL|600932918|200.00|2007-09-12|20\n",
        "|Buck|Blaine|M|45 Eaton Ave||Camden|ME|048431752|2300.00|2007-09-30|20\n",
        "|Buck|Barbara||1780 NE 138th St||North Miami|FL|331811316|50.00|2007-09-13|20\n",
        "|Buck|Barbara||1780 NE 138th St||North Miami|FL|331811316|50.00|2007-07-19|20\n",
        "|Buchman|Mark M||2530 Lawton Ave||San Luis Obispo|CA|934015622|460.80|2007-07-18|20\n",
        "|Bucher|Ida|M|1400 Warnall Ave||Los Angeles|CA|900245333|100.00|2007-07-10|20\n",
        "|Buchanek|Elizabeth||7917 Kentbury Dr||Bethesda|MD|208144615|50.00|2007-09-30|20\n",
        "|Buchanan|John||2025 NW 29th Rd||Boca Raton|FL|334316303|500.00|2007-09-24|20\n",
        "|Buchanan|John||2025 NW 29th Rd||Boca Raton|FL|334316303|-500.00|2007-09-24|20\n",
        "|Buchanan|John||2025 NW 29th Rd||Boca Raton|FL|334316303|500.00|2007-09-24|20\n",
        "|Buchanan|John||2025 NW 29th Rd||Boca Raton|FL|334316303|700.00|2007-08-28|20\n",
        "|Buchanan|John||2025 NW 29th Rd||Boca Raton|FL|334316303|-700.00|2007-08-28|20\n",
        "|Buchanan|John||2025 NW 29th Rd||Boca Raton|FL|334316303|1000.00|2007-08-28|20\n",
        "|Buchanan|John||2025 NW 29th Rd||Boca Raton|FL|334316303|1300.00|2007-08-09|20\n",
        "|Buchanan|John||2025 NW 29th Rd||Boca Raton|FL|334316303|200.00|2007-08-14|20\n",
        "|Buchanan|John||2025 NW 29th Rd||Boca Raton|FL|334316303|500.00|2007-07-25|20\n",
        "|Buchanan|John||4635 49th St NW||Washington|DC|200164320|200.09|2007-09-23|20\n",
        "|Harrison|Ryan||2247 3rd St||La Verne|CA|917504918|25.00|2007-07-26|20\n",
        "|BYNUM|HERBERT||332 SUNNYSIDE ROAD||TAMPA|FL|336177249|-500.00|2008-03-10|22\n",
        "|BYINGTON|MARGARET|E.|2633 MIDDLEBORO LANE N.E.||GRAND RAPIDS|MI|495061254|-2300.00|2008-03-03|22\n",
        "|BYERS|BOB|A.|13170 TELFAIR AVENUE||SYLMAR|CA|913423573|-2300.00|2008-03-07|22\n",
        "|BYERS|AUDREY||2658 LADBROOK WAY||THOUSAND OAKS|CA|913615073|-200.00|2008-03-07|22\n",
        "|BUSH|KRYSTIE||P.O. BOX 61046||DENVER|CO|802061046|-2300.00|2008-03-06|22\n",
        "|BUSH|ERIC||P.O. BOX 61046||DENVER|CO|802061046|-2300.00|2008-03-06|22\n",
        "|BURTON|SUSAN||9338 DEER CREEK DRIVE||TAMPA|FL|336472286|-2300.00|2008-03-05|22\n",
        "|BURTON|STEVEN|G.|9938 DEER CREEK DRIVE||TAMPA|FL|33647|-2300.00|2008-03-05|22\n",
        "|BURTON|GLENN|M.|4404 CHARLESTON COURT||TAMPA|FL|336092620|-2300.00|2008-03-05|22\n",
        "|BURKHARDT|CRAIG|S.|910 15TH STREET N.W.||WASHINGTON|DC|200052503|-500.00|2008-03-07|22\n",
        "|BURKHARDT|CRAIG|S.|910 15TH STREET N.W.||WASHINGTON|DC|200052503|-1000.00|2008-03-07|22\n",
        "|BURKHARDT|BARBARA||910 15TH STREET N.W.||WASHINGTON|DC|200052503|-500.00|2008-03-07|22\n",
        "|BURKE|SUZANNE|M.|3401 EVANSTON||SEATTLE|WA|981038677|-700.00|2008-03-05|22\n",
        "|BURKE|GAIL||165 E. 32ND STREET|APARTMENT 9E|NEW YORK|NY|100166014|-2000.00|2008-03-05|22\n",
        "|BURKE|DONALD|J.|12 LOMPOC||RANCHO SANTA MARGA|CA|926881817|-2300.00|2008-03-11|22\n",
        "|BURGERT|RONALD|L.|5723 PLUMTREE DRIVE||DALLAS|TX|752524926|-1000.00|2008-03-05|22\n",
        "|BULL|BARTLE|B.|439 E. 51ST STREET||NEW YORK|NY|100226473|-800.00|2008-03-10|22\n",
        "|BULL|BARTLE|B.|439 E. 51ST STREET||NEW YORK|NY|100226473|-1000.00|2008-03-10|22\n",
        "|BUKOWSKI|DANIEL|J.|702 S. WRIGHT STREET||NAPERVILLE|IL|605406736|-100.00|2008-03-10|22\n",
        "|BUISSON|MARGARET|A.|P.O. BOX 197029||LOUISVILLE|KY|402597029|-200.00|2008-03-11|22\n",
        "|BUCKLEY|WALTER|W.|1635 COUNTRY ROAD||BETHLEHEM|PA|180155718|-100.00|2008-03-05|22\n",
        "|BUCKLEY|MARJORIE|B.|1635 COUNTRY ROAD||BETHLEHEM|PA|180155718|-100.00|2008-03-05|22\n",
        "|BRUNO|JOHN||10136 WINDERMERE CHASE BLVD.||GOTHA|FL|347344707|-2300.00|2008-03-06|22\n",
        "|BRUNO|IRENE||10136 WINDERMERE CHASE BLVD.||GOTHA|FL|347344707|-2300.00|2008-03-06|22\n",
        "|BROWN|TIMOTHY|J.|26826 MARLOWE COURT||STEVENSON RANCH|CA|913811020|-2300.00|2008-03-06|22\n",
        "|Schuff|Bryan||1700 W Sweden Rd||Brockport|NY|14420|-25.00|2008-08-22|32\n",
        "|Hobbs|James||229 Cherry Lane||White House|TN|37188|-25.00|2008-08-19|32\n",
        "|Ranganath|Anoop||2507 Willard Drive||Charlottesville|VA|22903|-100.00|2008-04-21|32\n",
        "|Nystrom|Michael|A|93A Fairmont Street||Arlington|MA|02474|-503.00|2008-04-21|32\n",
        "|Muse|Nina|Jo|2915 Toro Canyon Rd||Austin|TX|78746|-50.00|2008-04-21|32\n",
        "|Waddell|James|L.|1823 Spel Lane SW||Rochester|MN|55902|-28.00|2008-04-21|32\n",
        "|Brucks|William|C.|PO Box 391||Corona del Mar|CA|92625|-150.00|2008-04-21|32\n",
        "|Kuehn|David||14502 West 93rd Street||Lenexa|KS|66215|-330.00|2008-04-21|32\n",
        "|Verster|Jeanette|M.|7220 SW 61st St||Miami|FL|331431807|-1000.00|2008-04-21|32\n",
        "|Uihlein|Richard||1396 N Waukegan Rd||Lake Forest|IL|600451147|-2300.00|2008-04-21|32\n",
        "|Eskenberry|Robert|P|10960 Gray Cir||Westminster|CO|80020|-223.00|2008-04-21|32\n",
        "|Froehling|Alan|L.|302 Broadway St||Mount Vernon|IL|628645116|-844.80|2008-04-21|32\n",
        "|Duryea|Marcia|A.|123 Bayview Ave||Amityville|NY|11701|-299.50|2008-04-21|32\n",
        "|Perreault|Louise||503 Brockridge Hunt Drive||Hampton|VA|23666|-34.08|2008-04-21|32\n",
        "|Rozenfeld|Timur||57 Herbert Road||Robbinsville|NJ|08691|-777.95|2008-04-21|32\n",
        "|Kazor|Christopher|M|707 Spindletree ave||Naperville|IL|60565|-2592.00|2008-04-21|32\n",
        "|Lehner|Thomas|S.|2701 Star Lane||Wadsworth|OH|44281|-200.00|2008-04-21|32\n",
        "|Plummer|Joseph||587 Blake Hill Rd||New Hampton|NH|032564424|-24.60|2008-04-21|32\n",
        "|Raught|Philip|M|4714 Plum Way||Pittsburgh|PA|15201|-1046.00|2008-04-21|32\n",
        "|Ferrara|Judith|D|1508 Waterford Road||Yardley|PA|19067|-1100.00|2008-04-21|32\n",
        "|Johnson|Cathleen|E.|1003 Justin Ln Apt 2016||Austin|TX|787572648|-14.76|2008-04-21|32\n",
        "|Sanford|Bradley||940 Post St #43||San Francisco|CA|94109|-24.53|2008-04-21|32\n",
        "|Gaarder|Bruce||PO Box 4085||Mountain Home AFB|ID|83648|-261.00|2008-04-21|32\n",
        "|Choe|Hyeokchan||207 Bridle Way||Fort Lee|NJ|070246302|-39.50|2008-04-21|32\n",
        "|Jacobs|Richard|G.|14337 Tawya Rd||Apple Valley|CA|923075545|-1000.00|2008-04-21|32\n",
        "|Aaronson|Rebecca||2000 Village Green Dr Apt 12||Mill Creek|WA|980125787|100.00|2008-02-08|34\n",
        "|Aarons|Elaine||481 Buck Island Rd Apt 17A|APT 17A|West Yarmouth|MA|026733300|25.00|2008-02-26|34\n",
        "|Aarons|Elaine||481 Buck Island Rd Apt 17A|APT 17A|West Yarmouth|MA|026733300|70.00|2008-02-25|34\n",
        "|Aarons|Elaine||481 Buck Island Rd Apt 17A|APT 17A|West Yarmouth|MA|026733300|100.00|2008-02-08|34\n",
        "|Aaron|Shirley||101 Cherry Ave||Havana|FL|323331311|50.00|2008-02-29|34\n",
        "|Aaron|Shirley||101 Cherry Ave||Havana|FL|323331311|100.00|2008-02-29|34\n",
        "|Aaronson|Rebecca||2000 Village Green Dr Apt 12||Mill Creek|WA|980125787|100.00|2008-02-14|34\n",
        "|Aaron|Shirley||101 Cherry Ave||Havana|FL|323331311|100.00|2008-02-24|34\n",
        "|Aaron|Shirley||101 Cherry Ave||Havana|FL|323331311|100.00|2008-02-22|34\n",
        "|Aaron|Shirley||101 Cherry Ave||Havana|FL|323331311|100.00|2008-02-17|34\n",
        "|Reid|Elizabeth||73 W Patent Rd|OPHIR FARM NORTH|Bedford Hills|NY|105072222|-350.00|2008-08-28|34\n",
        "|Reich|Thomas||499 Park Ave||New York|NY|100221240|-2300.00|2008-08-28|34\n",
        "|Aaron|Shirley||101 Cherry Ave||Havana|FL|323331311|100.00|2008-02-08|34\n",
        "|Aaron|Shirley||101 Cherry Ave||Havana|FL|323331311|100.00|2008-02-03|34\n",
        "|Aaron|Sharron||1804 E Montgomery St||Broken Arrow|OK|740121840|500.00|2008-02-09|34\n",
        "|Aaron|Patricia||418 NW 35th St||Oklahoma City|OK|731188602|200.00|2008-02-26|34\n",
        "|Aaron|Patricia||418 NW 35th St||Oklahoma City|OK|731188602|100.00|2008-02-12|34\n",
        "|Aaron|Jim||2178 Fairway Cir||Canton|MI|481885097|300.00|2008-02-07|34\n",
        "|Aaron|Jim||2178 Fairway Cir||Canton|MI|481885097|200.00|2008-02-29|34\n",
        "|Aaron|Carole||PO Box 1806||Ogunquit|ME|039071806|70.00|2008-02-29|34\n",
        "|Aaron|Carole||PO Box 1806||Ogunquit|ME|039071806|50.00|2008-02-07|34\n",
        "|Aaron|Carole||PO Box 1806||Ogunquit|ME|039071806|100.00|2008-02-03|34\n",
        "|Aaron|Barbara||2298 Pacific Ave # 6||San Francisco|CA|941151435|1000.00|2008-02-11|34\n",
        "|Aanonsen|Lin||897 Raymond Ave||Saint Paul|MN|551141508|250.00|2008-02-21|34\n",
        "|Aanonsen|Lin||897 Raymond Ave||Saint Paul|MN|551141508|100.00|2008-02-08|34\n",
        "|BOURNE|TRAVIS||LAGE KAART 77||BRASSCHATT||02930|-500.00|2008-11-20|35\n",
        "|SECRIST|BRIAN|L.|3 MULE DEER TRAIL||LITTLETON|CO|801275722|-1000.00|2008-04-07|35\n",
        "|TOLLESTRUP|TRAVIS|W.|16331 WINECREEK RD.||SAN DIEGO|CA|92127|-1000.00|2008-05-15|35\n",
        "|ACCORD|DEAN|C.|8813 ROBINSON RIDGE ROAD||LAS VEGAS|NV|891175812|500.00|2007-07-13|35\n",
        "|ABTS|HENRY||P. O. BOX 7299||INCLINE VILLAGE|NV|894527299|100.00|2007-07-13|35\n",
        "|ABSHIER|LANNY||14191 S.E. HIGHWAY 301||SUMMERFIELD|FL|34491|500.00|2007-09-25|35\n",
        "|ABSHIER|DIANA||14191 S.E. HIGHWAY 301||SUMMERFIELD|FL|34491|500.00|2007-09-25|35\n",
        "|ABREU|KEVIN|M.|1305 GARDEN GLEN LANE||PEARLAND|TX|775816547|50.00|2007-09-30|35\n",
        "|ABREU|KEVIN|M.|1305 GARDEN GLEN LANE||PEARLAND|TX|775816547|150.00|2007-08-09|35\n",
        "|ABREU|KEVIN|M.|1305 GARDEN GLEN LANE||PEARLAND|TX|775816547|50.00|2007-07-19|35\n",
        "|ABRAMOWITZ|NIRA||411 HARBOR ROAD||SOUTHPORT|CT|068901376|2300.00|2007-09-14|35\n",
        "|ABRAMS|MICHAEL||7910 WOODMONT AVENUE||BETHESDA|MD|208143002|250.00|2007-09-29|35\n",
        "|ABRAMOWITZ|KEN||200 CENTRAL PARK S.|APARTMENT 31A|NEW YORK|NY|100191448|300.00|2007-09-11|35\n",
        "|ABOUBAKARE|NASAR||1400 SAN MIGUEL DRIVE||CORONA DEL MAR|CA|926251300|1000.00|2007-07-09|35\n",
        "|ABEGG|PATRICIA|T.|1862 E. 5150 S.||SALT LAKE CITY|UT|841176911|75.00|2007-09-25|35\n",
        "|ABEGG|PATRICIA|T.|1862 E. 5150 S.||SALT LAKE CITY|UT|841176911|25.00|2007-09-17|35\n",
        "|ABEGG|PATRICIA|T.|1862 E. 5150 S.||SALT LAKE CITY|UT|841176911|75.00|2007-08-31|35\n",
        "|ABEGG|PATRICIA|T.|1862 E. 5150 S.||SALT LAKE CITY|UT|841176911|75.00|2007-08-14|35\n",
        "|ABEGG|PATRICIA|T.|1862 E. 5150 S.||SALT LAKE CITY|UT|841176911|25.00|2007-08-06|35\n",
        "|ABEGG|PATRICIA|T.|1862 E. 5150 S.||SALT LAKE CITY|UT|841176911|25.00|2007-07-10|35\n",
        "|ABDELLA|THOMAS|M.|4231 MONUMENT WALL WAY #340||FAIRFAX|VA|220308440|50.00|2007-09-30|35\n",
        "|ABBOTT|WELDON|S.|777 EAST SOUTH TEMPLE  4E||SALT LAKE CITY|UT|841021269|100.00|2007-09-29|35\n",
        "|ABBOTT|WELDON|S.|777 EAST SOUTH TEMPLE  4E||SALT LAKE CITY|UT|841021269|50.00|2007-08-09|35\n",
        "|ABBOTT|GERALD|F.|389 BENEFIT STREET||PROVIDENCE|RI|029032946|100.00|2007-09-15|35\n",
        "|ABBOTT|GERALD|F.|389 BENEFIT STREET||PROVIDENCE|RI|029032946|100.00|2007-08-15|35\n",
        "|ABEDIN|ZAINUL||715 N. CENTRAL AVENUE|SUITE 212|GLENDALE|CA|912031164|500.00|2008-01-21|37\n",
        "|ABBOTT|SYBIL|F.|446 GAMES DRIVE||RENO|NV|895093326|75.00|2008-01-08|37\n",
        "|ABBOTT|SYBIL|F.|446 GAMES DRIVE||RENO|NV|895093326|50.00|2008-01-08|37\n",
        "|ABBOTT|RONALD|LEANDER|5453 HAWTHORNE STREET||MONTCLAIR|CA|917632551|200.00|2008-01-31|37\n",
        "|ABBOTT|RONALD|LEANDER|5453 HAWTHORNE STREET||MONTCLAIR|CA|917632551|100.00|2008-01-08|37\n",
        "|ABBOTT|ROBERT|A.|3061 LOREE ROAD||DECKERVILLE|MI|484279763|500.00|2008-01-21|37\n",
        "|ABBOTT|MIKE|E.|4516 OSPREY LNDG||NICEVILLE|FL|325786810|1000.00|2008-01-15|37\n",
        "|ABBOT|DAVID|M.|56 SALEM STREET||ANDOVER|MA|018102114|200.00|2008-01-21|37\n",
        "|ABBO|PAULINE|MORENCY|10720 JACOB LANE||WHITE LAKE|MI|483862274|35.00|2008-01-07|37\n",
        "|ABATE|MARIA|ELENA|1291 NIGHTINGALE AVENUE||MIAMI SPRINGS|FL|331663832|2600.00|2008-01-25|37\n",
        "|ABAIR|PETER||40 EVANS STREET||WATERTOWN|MA|024722150|25.00|2008-01-09|37\n",
        "|ABACHERLI|SHIRLEY|M.|29875 NEWPORT ROAD||MENIFEE|CA|925849524|150.00|2008-01-28|37\n",
        "|AARONS|CHARLES||1730 SHORE DRIVE||ANCHORAGE|AK|995153207|300.00|2008-01-30|37\n",
        "|AARONS|CHARLES||1730 SHORE DRIVE||ANCHORAGE|AK|995153207|410.00|2008-01-15|37\n",
        "|AARONS|CHARLES||1730 SHORE DRIVE||ANCHORAGE|AK|995153207|500.00|2008-01-09|37\n",
        "|ABEL|JOHN|H.|422 THOMAS STREET||BETHLEHEM|PA|180153316|200.00|2008-01-22|37\n",
        "|ABEL|MARLING|L.|14 HANGING MOSS LANE||GREENVILLE|SC|296155069|100.00|2008-01-22|37\n",
        "|ABEL|RUDOLPH||4532 OCEAN BLVD.|# 108|SARASOTA|FL|342421337|100.00|2008-01-08|37\n",
        "|ABELE|RODNEY||3620 METAIRIE HEIGHTS AVENUE||METAIRIE|LA|700021823|500.00|2008-01-15|37\n",
        "|ABERCROMBIE|DENIS||11811 WATER OAK CT||MAGNOLIA|TX|773546270|500.00|2008-01-30|37\n",
        "|ABESHAUS|MERRILL|M.|1801 N. HEREFORD DRIVE||FLAGSTAFF|AZ|860011121|120.00|2008-01-16|37\n",
        "|ABRAHAM|GEORGE||P.O. BOX 1504||LAKE CHARLES|LA|706021504|800.00|2008-01-17|37\n",
        "|ABRAHAMSON|PETER|J.|1030 W. ROSCOE STREET||CHICAGO|IL|606572207|50.00|2008-01-25|37\n",
        "|ABRAHAM|SALEM|A.|P.O. BOX 7||CANADIAN|TX|790140007|1000.00|2008-01-17|37\n",
        "|ABRAHAM|SALEM|A.|P.O. BOX 7||CANADIAN|TX|790140007|1300.00|2008-01-30|37\n",
        "```"
      ]
    },
    {
      "cell_type": "code",
      "execution_count": 4,
      "metadata": {
        "colab": {
          "base_uri": "https://localhost:8080/",
          "height": 204
        },
        "collapsed": false,
        "id": "zM7kcM3dm_dB",
        "jupyter": {
          "outputs_hidden": false
        },
        "outputId": "64234bfc-033d-406c-ecba-9b993ce039b5"
      },
      "outputs": [],
      "source": [
        "dfcwci=pd.read_csv(\"data/contributors_with_candidate_id.txt\", sep=\"|\")\n",
        "dfcwci.head()"
      ]
    },
    {
      "cell_type": "markdown",
      "metadata": {
        "id": "GPVpEcYttN6c"
      },
      "source": [
        "You'll notice that the contributions dont have the first column, so we will need to be cleaning things up a bit..."
      ]
    },
    {
      "cell_type": "code",
      "execution_count": 5,
      "metadata": {
        "colab": {
          "base_uri": "https://localhost:8080/",
          "height": 204
        },
        "collapsed": false,
        "id": "_MYaY2T9m_dB",
        "jupyter": {
          "outputs_hidden": false
        },
        "outputId": "38fed871-b11f-47d6-e591-139d69be09b2"
      },
      "outputs": [],
      "source": [
        "del dfcwci['id']\n",
        "dfcwci.head()"
      ]
    },
    {
      "cell_type": "markdown",
      "metadata": {
        "id": "Ph2RL5Cem_c8"
      },
      "source": [
        "## SQL and Relational Databases"
      ]
    },
    {
      "cell_type": "markdown",
      "metadata": {
        "id": "CzeIMPkKm_c9"
      },
      "source": [
        "Lets start with Relational Databases, so called because they contain \"relations\" (tables), which are SETS of \"tuples\" (rows) which map \"attributes\" (columns) to atomic values.\n",
        "\n",
        "The available attributes are constrained by a \"header\" tuple of attributes which set the type. We do this below here, using the SQL language to set things up."
      ]
    },
    {
      "cell_type": "markdown",
      "metadata": {},
      "source": [
        "```sql\n",
        "DROP TABLE IF EXISTS \"candidates\";\n",
        "DROP TABLE IF EXISTS \"contributors\";\n",
        "CREATE TABLE \"candidates\" (\n",
        "    \"id\" INTEGER PRIMARY KEY  NOT NULL ,\n",
        "    \"first_name\" VARCHAR,\n",
        "    \"last_name\" VARCHAR,\n",
        "    \"middle_name\" VARCHAR,\n",
        "    \"party\" VARCHAR NOT NULL\n",
        ");\n",
        "CREATE TABLE \"contributors\" (\n",
        "    \"id\" INTEGER PRIMARY KEY  AUTOINCREMENT  NOT NULL,\n",
        "    \"last_name\" VARCHAR,\n",
        "    \"first_name\" VARCHAR,\n",
        "    \"middle_name\" VARCHAR,\n",
        "    \"street_1\" VARCHAR,\n",
        "    \"street_2\" VARCHAR,\n",
        "    \"city\" VARCHAR,\n",
        "    \"state\" VARCHAR,\n",
        "    \"zip\" VARCHAR, -- Notice that we are converting the zip from integer to string\n",
        "    \"amount\" INTEGER,\n",
        "    \"date\" DATETIME,\n",
        "    \"candidate_id\" INTEGER NOT NULL,\n",
        "    FOREIGN KEY(candidate_id) REFERENCES candidates(id)\n",
        ");\n",
        "```"
      ]
    },
    {
      "cell_type": "code",
      "execution_count": 6,
      "metadata": {
        "id": "8idaiQlZm_c9"
      },
      "outputs": [],
      "source": [
        "ourschema=\"\"\"\n",
        "DROP TABLE IF EXISTS \"candidates\";\n",
        "DROP TABLE IF EXISTS \"contributors\";\n",
        "CREATE TABLE \"candidates\" (\n",
        "    \"id\" INTEGER PRIMARY KEY  NOT NULL ,\n",
        "    \"first_name\" VARCHAR,\n",
        "    \"last_name\" VARCHAR,\n",
        "    \"middle_name\" VARCHAR,\n",
        "    \"party\" VARCHAR NOT NULL\n",
        ");\n",
        "CREATE TABLE \"contributors\" (\n",
        "    \"id\" INTEGER PRIMARY KEY  AUTOINCREMENT  NOT NULL,\n",
        "    \"last_name\" VARCHAR,\n",
        "    \"first_name\" VARCHAR,\n",
        "    \"middle_name\" VARCHAR,\n",
        "    \"street_1\" VARCHAR,\n",
        "    \"street_2\" VARCHAR,\n",
        "    \"city\" VARCHAR,\n",
        "    \"state\" VARCHAR,\n",
        "    \"zip\" VARCHAR, -- Notice that we are converting the zip from integer to string\n",
        "    \"amount\" INTEGER,\n",
        "    \"date\" DATETIME,\n",
        "    \"candidate_id\" INTEGER NOT NULL,\n",
        "    FOREIGN KEY(candidate_id) REFERENCES candidates(id)\n",
        ");\n",
        "\"\"\""
      ]
    },
    {
      "cell_type": "markdown",
      "metadata": {
        "id": "cjAII0bfm_c-"
      },
      "source": [
        "### SQLITE"
      ]
    },
    {
      "cell_type": "markdown",
      "metadata": {
        "id": "TDsvtf-4m_c-"
      },
      "source": [
        "We use sqlite here (and recommend Postgres for production purposes). Sqlite is a on-file database, as opposed to other common databases such as Oracle and Postgres, which run as different processes on your system. Sqlite is great for on-disk large databases which wont fit into memory. \n",
        "\n",
        "Its also built into Python, but to use the [command line tool](https://www.sqlite.org/cli.html), I recommend you install it: https://www.sqlite.org/download.html. I also recommend you download and install the sqlite browser: http://sqlitebrowser.org .\n",
        "\n",
        "Python implements a standard database API over all databases. Its called [DBAPI2](http://cewing.github.io/training.codefellows/lectures/day21/intro_to_dbapi2.html). It works across many SQL databases.\n",
        "\n",
        "There is an even higher level API available, called [SQLAlchemy](http://www.sqlalchemy.org). While we wont use it here, I thoroughly recommend it. Many things in Pandas use it to interface with databases. Here we'll get away with things by using SQLITE."
      ]
    },
    {
      "cell_type": "markdown",
      "metadata": {
        "id": "KOtOyNB7m_c_"
      },
      "source": [
        "We'll write some functions to connect to Sqlite.\n",
        "\n",
        "(1) Connect and get a DBAPI2 connection."
      ]
    },
    {
      "cell_type": "code",
      "execution_count": 7,
      "metadata": {
        "collapsed": false,
        "id": "QERb7MJ5m_c_",
        "jupyter": {
          "outputs_hidden": false
        }
      },
      "outputs": [],
      "source": [
        "from sqlite3 import dbapi2 as sq3\n",
        "from pathlib import Path\n",
        "PATHSTART=\".\"\n",
        "def get_db(dbfile):\n",
        "    sqlite_db = sq3.connect(Path(PATHSTART) / dbfile)\n",
        "    return sqlite_db"
      ]
    },
    {
      "cell_type": "markdown",
      "metadata": {
        "id": "k0oqaDWBm_c_"
      },
      "source": [
        "(2) Set up the database with tables. Drop tables if they exist and create them."
      ]
    },
    {
      "cell_type": "code",
      "execution_count": 8,
      "metadata": {
        "id": "9CfxsBEIm_c_"
      },
      "outputs": [],
      "source": [
        "def init_db(dbfile, schema):\n",
        "    \"\"\"Creates the database tables.\"\"\"\n",
        "    db = get_db(dbfile) \n",
        "    db.cursor().executescript(schema)\n",
        "    db.commit()\n",
        "    return db"
      ]
    },
    {
      "cell_type": "markdown",
      "metadata": {
        "id": "y0uWjtFKm_dC"
      },
      "source": [
        "Initializing the database:"
      ]
    },
    {
      "cell_type": "code",
      "execution_count": 9,
      "metadata": {
        "collapsed": false,
        "id": "a40cefD0m_dC",
        "jupyter": {
          "outputs_hidden": false
        }
      },
      "outputs": [],
      "source": [
        "db=init_db(\"/tmp/cancont.db\", ourschema)"
      ]
    },
    {
      "cell_type": "markdown",
      "metadata": {
        "id": "dNSPx5EVm_dC"
      },
      "source": [
        "### Populating with Pandas!!"
      ]
    },
    {
      "cell_type": "code",
      "execution_count": 10,
      "metadata": {
        "collapsed": false,
        "id": "34zblnjzm_dC",
        "jupyter": {
          "outputs_hidden": false
        }
      },
      "outputs": [],
      "source": [
        "dfcand.to_sql(\"candidates\", db, if_exists=\"append\", index=False)"
      ]
    },
    {
      "cell_type": "code",
      "execution_count": 11,
      "metadata": {
        "id": "fBTGE06Lm_dD"
      },
      "outputs": [],
      "source": [
        "dfcwci.to_sql(\"contributors\", db, if_exists=\"append\", index=False)"
      ]
    },
    {
      "cell_type": "markdown",
      "metadata": {
        "id": "-rhs-C-quikW"
      },
      "source": [
        "Now we can do queries in the lingua franca of databases: SQL"
      ]
    },
    {
      "cell_type": "code",
      "execution_count": 12,
      "metadata": {
        "collapsed": false,
        "id": "g3pK8mn9m_dD",
        "jupyter": {
          "outputs_hidden": false
        }
      },
      "outputs": [],
      "source": [
        "sel=\"\"\"\n",
        "SELECT * FROM candidates;\n",
        "\"\"\"\n",
        "c=db.cursor().execute(sel)"
      ]
    },
    {
      "cell_type": "code",
      "execution_count": 13,
      "metadata": {
        "colab": {
          "base_uri": "https://localhost:8080/"
        },
        "collapsed": false,
        "id": "LfIjGht9m_dE",
        "jupyter": {
          "outputs_hidden": false
        },
        "outputId": "8021152e-fda0-485d-8d15-bed6327a3d5c"
      },
      "outputs": [],
      "source": [
        "c.fetchall()"
      ]
    },
    {
      "cell_type": "code",
      "execution_count": 14,
      "metadata": {
        "id": "BR6XSxavm_dH"
      },
      "outputs": [],
      "source": [
        "def make_query(sel):\n",
        "    c=db.cursor().execute(sel)\n",
        "    return c.fetchall()"
      ]
    },
    {
      "cell_type": "code",
      "execution_count": 15,
      "metadata": {
        "colab": {
          "base_uri": "https://localhost:8080/"
        },
        "collapsed": false,
        "id": "reihv5B7m_dH",
        "jupyter": {
          "outputs_hidden": false
        },
        "outputId": "eceb6c8b-717d-45d7-919e-e8004c923f9e"
      },
      "outputs": [],
      "source": [
        "make_query(\"SELECT * FROM candidates;\")"
      ]
    },
    {
      "cell_type": "code",
      "execution_count": 16,
      "metadata": {},
      "outputs": [],
      "source": [
        "make_query(\"PRAGMA table_info(candidates);\")"
      ]
    },
    {
      "cell_type": "code",
      "execution_count": 17,
      "metadata": {},
      "outputs": [],
      "source": [
        "make_query(\"PRAGMA table_info(contributors);\")"
      ]
    },
    {
      "cell_type": "code",
      "execution_count": 18,
      "metadata": {},
      "outputs": [],
      "source": [
        "candidate_cols = [e[1] for e in make_query(\"PRAGMA table_info(candidates);\")]\n",
        "candidate_cols"
      ]
    },
    {
      "cell_type": "code",
      "execution_count": 19,
      "metadata": {},
      "outputs": [],
      "source": [
        "contributor_cols = [e[1] for e in make_query(\"PRAGMA table_info(contributors);\")]\n",
        "contributor_cols"
      ]
    },
    {
      "cell_type": "code",
      "execution_count": 20,
      "metadata": {
        "colab": {
          "base_uri": "https://localhost:8080/",
          "height": 210
        },
        "collapsed": false,
        "id": "FpFkKYUlm_dM",
        "jupyter": {
          "outputs_hidden": false
        },
        "outputId": "8ada3d89-2b24-4745-cdd7-c28a4e6509b0"
      },
      "outputs": [],
      "source": [
        "out=make_query(\"SELECT * FROM candidates;\")\n",
        "make_frame(out, legend=candidate_cols)"
      ]
    },
    {
      "cell_type": "markdown",
      "metadata": {
        "id": "npTqP-Pkm_dI"
      },
      "source": [
        "## THE GRAMMAR OF DATA"
      ]
    },
    {
      "cell_type": "markdown",
      "metadata": {
        "id": "Y_WFdIuBm_dJ"
      },
      "source": [
        "Let us now focus on core data manipulation commands. The reason to do this is that they are *universal across systems, and by identifying them, we can quickly ask how to do these* when we encounter a new system."
      ]
    },
    {
      "cell_type": "markdown",
      "metadata": {
        "id": "t2MXv87wm_dJ"
      },
      "source": [
        "See https://gist.github.com/TomAugspurger/6e052140eaa5fdb6e8c0/ which has a comparison of r/dplyr and pandas. I stole and modified this table from there:\n",
        "\n",
        "\n",
        "``dplyr`` has a small set of nicely defined verbs, which Hadley Wickham has used to identify core data manipulation commands. Here are listed the closest SQL and Pandas verbs, so we can see the universality of these manipulations.\n",
        "\n",
        "<table>\n",
        "  <tr>\n",
        "    <th><b>VERB</b></th>\n",
        "    <th><b>dplyr</b></th>\n",
        "    <th><b>pandas</b></th>\n",
        "    <th><b>SQL</b></th>\n",
        "  </tr>\n",
        "  <tr>\n",
        "    <td>QUERY/SELECTION</td>\n",
        "    <td>filter() (and slice())</td>\n",
        "    <td>query() (and loc[], iloc[])</td>\n",
        "    <td>SELECT WHERE</td>\n",
        "  </tr>\n",
        "  <tr>\n",
        "    <td>SORT</td>\n",
        "    <td>arrange()</td>\n",
        "    <td>sort_values()</td>\n",
        "    <td>ORDER BY</td>\n",
        "  </tr>\n",
        "  <tr>\n",
        "    <td>SELECT-COLUMNS/PROJECTION</td>\n",
        "    <td>select() (and rename())</td>\n",
        "    <td>[](__getitem__) (and rename())</td>\n",
        "    <td>SELECT COLUMN</td>\n",
        "  </tr>\n",
        "  <tr>\n",
        "    <td>SELECT-DISTINCT</td>\n",
        "    <td>distinct()</td>\n",
        "    <td>unique(),drop_duplicates()</td>\n",
        "    <td>SELECT DISTINCT COLUMN</td>\n",
        "  </tr>\n",
        "  <tr>\n",
        "    <td>ASSIGN</td>\n",
        "    <td>mutate() (and transmute())</td>\n",
        "    <td>assign</td>\n",
        "    <td>ALTER/UPDATE</td>\n",
        "  </tr>\n",
        "  <tr>\n",
        "    <td>AGGREGATE</td>\n",
        "    <td>summarise()</td>\n",
        "    <td>describe(), mean(), max()</td>\n",
        "    <td>None, AVG(),MAX()</td>\n",
        "  </tr>\n",
        "  <tr>\n",
        "    <td>SAMPLE</td>\n",
        "    <td>sample_n() and sample_frac()</td>\n",
        "    <td>sample()</td>\n",
        "    <td>implementation dep, use RAND()</td>\n",
        "  </tr>\n",
        "  <tr>\n",
        "    <td>GROUP-AGG</td>\n",
        "    <td>group_by/summarize</td>\n",
        "    <td>groupby/agg, count, mean</td>\n",
        "    <td>GROUP BY</td>\n",
        "  </tr>\n",
        "  <tr>\n",
        "    <td>DELETE</td>\n",
        "    <td>?</td>\n",
        "    <td>drop/masking</td>\n",
        "    <td>DELETE/WHERE</td>\n",
        "  </tr>\n",
        "</table>\n"
      ]
    },
    {
      "cell_type": "markdown",
      "metadata": {
        "id": "PQYLnj1tm_dK"
      },
      "source": [
        "### QUERY\n",
        "\n",
        "We'll want to make queries on columns that are both numerical and categorical, combining these queries when appropriate..."
      ]
    },
    {
      "cell_type": "code",
      "execution_count": 21,
      "metadata": {
        "colab": {
          "base_uri": "https://localhost:8080/",
          "height": 359
        },
        "collapsed": false,
        "id": "XG7-REuGm_dQ",
        "jupyter": {
          "outputs_hidden": false
        },
        "outputId": "2824d9e9-c88d-4346-85e4-7b6d0aa8ac7d"
      },
      "outputs": [],
      "source": [
        "dfcwci.query(\"20 <= amount <= 40\")"
      ]
    },
    {
      "cell_type": "code",
      "execution_count": 22,
      "metadata": {
        "colab": {
          "base_uri": "https://localhost:8080/",
          "height": 359
        },
        "collapsed": false,
        "id": "F1vI79qvm_dP",
        "jupyter": {
          "outputs_hidden": false
        },
        "outputId": "0b4ceab3-ff2d-45ce-a576-bcd8ab832546"
      },
      "outputs": [],
      "source": [
        "out=make_query(\"SELECT * FROM contributors WHERE amount BETWEEN 20 AND 40;\")\n",
        "make_frame(out, legend=contributor_cols)"
      ]
    },
    {
      "cell_type": "markdown",
      "metadata": {},
      "source": [
        "You can combine queries on different columns (here a numerical and a categorical):"
      ]
    },
    {
      "cell_type": "code",
      "execution_count": 23,
      "metadata": {
        "colab": {
          "base_uri": "https://localhost:8080/",
          "height": 173
        },
        "collapsed": false,
        "id": "rmD_Xm1Fm_dK",
        "jupyter": {
          "outputs_hidden": false
        },
        "outputId": "b1b05366-0300-4c39-91e7-88854d7acd1a"
      },
      "outputs": [],
      "source": [
        "dfcwci.query(\"state=='VA' & amount < 400\")"
      ]
    },
    {
      "cell_type": "code",
      "execution_count": 24,
      "metadata": {
        "colab": {
          "base_uri": "https://localhost:8080/",
          "height": 173
        },
        "collapsed": false,
        "id": "NLorulXjm_dL",
        "jupyter": {
          "outputs_hidden": false
        },
        "outputId": "74d3e00f-1090-438b-9d46-a52991de3b42"
      },
      "outputs": [],
      "source": [
        "dfcwci[(dfcwci.state=='VA') & (dfcwci.amount < 400)]"
      ]
    },
    {
      "cell_type": "code",
      "execution_count": 25,
      "metadata": {
        "colab": {
          "base_uri": "https://localhost:8080/",
          "height": 210
        },
        "collapsed": false,
        "id": "FpFkKYUlm_dM",
        "jupyter": {
          "outputs_hidden": false
        },
        "outputId": "8ada3d89-2b24-4745-cdd7-c28a4e6509b0"
      },
      "outputs": [],
      "source": [
        "out=make_query(\"SELECT * FROM contributors WHERE state='VA' AND amount < 400;\")\n",
        "make_frame(out, legend=contributor_cols)"
      ]
    },
    {
      "cell_type": "markdown",
      "metadata": {},
      "source": [
        "Queries that look if things are in a list...useful for categorical variables or discrete valued numerical variables..."
      ]
    },
    {
      "cell_type": "code",
      "execution_count": 26,
      "metadata": {
        "colab": {
          "base_uri": "https://localhost:8080/",
          "height": 297
        },
        "collapsed": false,
        "id": "8pqu8aPTm_dP",
        "jupyter": {
          "outputs_hidden": false
        },
        "outputId": "570c8b55-91e3-4123-ce48-6b13a4b9661a"
      },
      "outputs": [],
      "source": [
        "dfcwci[dfcwci.state.isin(['VA','WA'])].head(10)"
      ]
    },
    {
      "cell_type": "code",
      "execution_count": 27,
      "metadata": {
        "colab": {
          "base_uri": "https://localhost:8080/",
          "height": 297
        },
        "collapsed": false,
        "id": "aJ5LY1Ghm_dP",
        "jupyter": {
          "outputs_hidden": false
        },
        "outputId": "1f1de716-2eae-436b-a74e-bf35b0150d6f"
      },
      "outputs": [],
      "source": [
        "out=make_query(\"SELECT * FROM contributors WHERE state IN ('VA','WA');\")\n",
        "make_frame(out, legend=contributor_cols).head(10)"
      ]
    },
    {
      "cell_type": "markdown",
      "metadata": {
        "id": "iMWTFcF4m_dR"
      },
      "source": [
        "### SELECT-COLUMNS\n",
        "\n",
        "Sometimes we only want to get a few columns, not the entire table"
      ]
    },
    {
      "cell_type": "code",
      "execution_count": 28,
      "metadata": {
        "colab": {
          "base_uri": "https://localhost:8080/",
          "height": 359
        },
        "collapsed": false,
        "id": "kb2gqSPxm_dR",
        "jupyter": {
          "outputs_hidden": false
        },
        "outputId": "74d9d811-69f7-400c-c6e8-68213230cdc1"
      },
      "outputs": [],
      "source": [
        "dfcwci[['first_name', 'amount']].head(10)"
      ]
    },
    {
      "cell_type": "code",
      "execution_count": 29,
      "metadata": {
        "colab": {
          "base_uri": "https://localhost:8080/",
          "height": 359
        },
        "collapsed": false,
        "id": "bJDOeAEhm_dS",
        "jupyter": {
          "outputs_hidden": false
        },
        "outputId": "feecde3c-917b-47b4-c774-fca78ed3dcef"
      },
      "outputs": [],
      "source": [
        "out=make_query(\"SELECT first_name, amount FROM contributors;\")\n",
        "make_frame(out,['first_name', 'amount']).head(10)"
      ]
    },
    {
      "cell_type": "markdown",
      "metadata": {
        "id": "cSAoMFCXm_dX"
      },
      "source": [
        "### AGGREGATE"
      ]
    },
    {
      "cell_type": "code",
      "execution_count": 62,
      "metadata": {
        "colab": {
          "base_uri": "https://localhost:8080/",
          "height": 297
        },
        "collapsed": false,
        "id": "mnuRvNOMm_dX",
        "jupyter": {
          "outputs_hidden": false
        },
        "outputId": "8b0980ea-49d8-47a2-ebb4-d2c09c36814d"
      },
      "outputs": [],
      "source": [
        "dfcwci.describe()"
      ]
    },
    {
      "cell_type": "code",
      "execution_count": 63,
      "metadata": {
        "colab": {
          "base_uri": "https://localhost:8080/"
        },
        "collapsed": false,
        "id": "rVFWbM1Pm_dY",
        "jupyter": {
          "outputs_hidden": false
        },
        "outputId": "de9c01dd-a9ff-4e27-a34d-fb289854d990"
      },
      "outputs": [],
      "source": [
        "dfcwci.amount.max()"
      ]
    },
    {
      "cell_type": "markdown",
      "metadata": {
        "id": "DAd2VRlJ_3nv"
      },
      "source": [
        "SQL is actually simpler"
      ]
    },
    {
      "cell_type": "code",
      "execution_count": 65,
      "metadata": {
        "colab": {
          "base_uri": "https://localhost:8080/"
        },
        "collapsed": false,
        "id": "L-xofAK6m_dZ",
        "jupyter": {
          "outputs_hidden": false
        },
        "outputId": "41a7e9f0-ff76-4622-9dcf-a215597aac4f"
      },
      "outputs": [],
      "source": [
        "out=make_query(\"SELECT MAX(amount) FROM contributors;\")\n",
        "out"
      ]
    },
    {
      "cell_type": "markdown",
      "metadata": {
        "id": "ATkM6gBbm_db"
      },
      "source": [
        "Aso `MIN`, `SUM`, `AVG`."
      ]
    },
    {
      "cell_type": "markdown",
      "metadata": {
        "id": "Z6_jtBgHm_db"
      },
      "source": [
        "### GROUP-AGG\n",
        "\n",
        "Being able to group data by the value of any column is critical functionality. This is how you understand your sampling, and the distributions of various quantities in your data."
      ]
    },
    {
      "cell_type": "code",
      "execution_count": 71,
      "metadata": {
        "colab": {
          "base_uri": "https://localhost:8080/",
          "height": 1000
        },
        "collapsed": false,
        "id": "p5wxeVXxm_db",
        "jupyter": {
          "outputs_hidden": false
        },
        "outputId": "5551e29a-2621-4400-f114-97359eee9182"
      },
      "outputs": [],
      "source": [
        "dfcwci.groupby(\"state\").sum()"
      ]
    },
    {
      "cell_type": "code",
      "execution_count": 72,
      "metadata": {
        "colab": {
          "base_uri": "https://localhost:8080/"
        },
        "collapsed": false,
        "id": "iXiKLda1m_dc",
        "jupyter": {
          "outputs_hidden": false
        },
        "outputId": "07cb5c5c-fe29-473d-9006-755ee3f7dd17"
      },
      "outputs": [],
      "source": [
        "dfcwci.groupby(\"state\")['amount'].mean()"
      ]
    },
    {
      "cell_type": "code",
      "execution_count": 73,
      "metadata": {
        "colab": {
          "base_uri": "https://localhost:8080/",
          "height": 1000
        },
        "collapsed": false,
        "id": "wwBiwN53m_dc",
        "jupyter": {
          "outputs_hidden": false
        },
        "outputId": "c15b9659-142a-4490-e3a3-12793da9937c"
      },
      "outputs": [],
      "source": [
        "out=make_query(\"SELECT state,SUM(amount) FROM contributors GROUP BY state;\")\n",
        "make_frame(out, legend=['state','sum'])"
      ]
    },
    {
      "cell_type": "markdown",
      "metadata": {},
      "source": [
        "## Creation and Alteration"
      ]
    },
    {
      "cell_type": "markdown",
      "metadata": {},
      "source": [
        "So far, when we created the database, we did it using Pandas. Clearly, one ought to be able to populate a SQL database using SQL. We now turn to this use case, as well as the alteration of databases."
      ]
    },
    {
      "cell_type": "markdown",
      "metadata": {
        "id": "uQPziM8xm_dG"
      },
      "source": [
        "### Populate with SQL INSERT"
      ]
    },
    {
      "cell_type": "markdown",
      "metadata": {},
      "source": [
        "Before we populate a the `candidates` table, lets delete all data from it..."
      ]
    },
    {
      "cell_type": "code",
      "execution_count": 42,
      "metadata": {},
      "outputs": [],
      "source": [
        "rem=\"\"\"\n",
        "DELETE FROM candidates;\n",
        "\"\"\"\n",
        "c=db.cursor().execute(rem)\n",
        "db.commit()"
      ]
    },
    {
      "cell_type": "markdown",
      "metadata": {
        "colab": {
          "base_uri": "https://localhost:8080/"
        },
        "id": "ZaFY5IWk5_A9",
        "outputId": "760cc719-7628-4cbb-b2a9-f129bb474fbf"
      },
      "source": [
        "Once again, lets look at the structure of the candidates file.\n",
        "\n",
        "Here is what the data looks like from the file `data/candidates.txt`\n",
        "\n",
        "```\n",
        "id|first_name|last_name|middle_name|party\n",
        "33|Joseph|Biden||D\n",
        "36|Samuel|Brownback||R\n",
        "34|Hillary|Clinton|R.|D\n",
        "39|Christopher|Dodd|J.|D\n",
        "26|John|Edwards||D\n",
        "22|Rudolph|Giuliani||R\n",
        "24|Mike|Gravel||D\n",
        "16|Mike|Huckabee||R\n",
        "30|Duncan|Hunter||R\n",
        "31|Dennis|Kucinich||D\n",
        "37|John|McCain||R\n",
        "20|Barack|Obama||D\n",
        "32|Ron|Paul||R\n",
        "29|Bill|Richardson||D\n",
        "35|Mitt|Romney||R\n",
        "38|Tom|Tancredo||R\n",
        "41|Fred|Thompson|D.|R\n",
        "```\n",
        "\n",
        "We compose an insertion template using the SQL insertion command..."
      ]
    },
    {
      "cell_type": "code",
      "execution_count": 43,
      "metadata": {
        "colab": {
          "base_uri": "https://localhost:8080/"
        },
        "collapsed": false,
        "id": "Xt8Dz4zim_dH",
        "jupyter": {
          "outputs_hidden": false
        },
        "outputId": "be9fb5bf-06d6-4af8-d310-11c96add8731"
      },
      "outputs": [],
      "source": [
        "ins=\"\"\"\n",
        "INSERT INTO candidates (id, first_name, last_name, middle_name, party) \\\n",
        "    VALUES (?,?,?,?,?);\n",
        "\"\"\""
      ]
    },
    {
      "cell_type": "markdown",
      "metadata": {},
      "source": [
        "Now we read the file line by line, not including the header line and slurp in the data. Notice that we only finish the transaction after we have slurped in all the lines. So its all lines or none. When we execute the cursor, the question marks are used a templates with a tuple provided in.."
      ]
    },
    {
      "cell_type": "code",
      "execution_count": 44,
      "metadata": {
        "colab": {
          "base_uri": "https://localhost:8080/"
        },
        "collapsed": false,
        "id": "Xt8Dz4zim_dH",
        "jupyter": {
          "outputs_hidden": false
        },
        "outputId": "be9fb5bf-06d6-4af8-d310-11c96add8731"
      },
      "outputs": [],
      "source": [
        "with open(\"data/candidates.txt\") as fd:\n",
        "    slines =[l.strip().split('|') for l in fd.readlines()]\n",
        "    for line in slines[1:]:\n",
        "        theid, first_name, last_name, middle_name, party = line\n",
        "        print(theid, first_name, last_name, middle_name, party)\n",
        "        valstoinsert = (int(theid), first_name, last_name, middle_name, party)\n",
        "        print(ins, valstoinsert)\n",
        "        db.cursor().execute(ins, valstoinsert)\n",
        "        \n",
        "db.commit()    "
      ]
    },
    {
      "cell_type": "code",
      "execution_count": 45,
      "metadata": {
        "colab": {
          "base_uri": "https://localhost:8080/"
        },
        "collapsed": false,
        "id": "reihv5B7m_dH",
        "jupyter": {
          "outputs_hidden": false
        },
        "outputId": "eceb6c8b-717d-45d7-919e-e8004c923f9e"
      },
      "outputs": [],
      "source": [
        "make_query(\"SELECT * FROM candidates;\")"
      ]
    },
    {
      "cell_type": "markdown",
      "metadata": {
        "id": "-x8-2i0rm_dT"
      },
      "source": [
        "### Create new columns with ASSIGN\n",
        "\n",
        "In Pandas it is simple to create a new column (`pd.Series`) in the dataframe:"
      ]
    },
    {
      "cell_type": "code",
      "execution_count": 46,
      "metadata": {
        "colab": {
          "base_uri": "https://localhost:8080/",
          "height": 359
        },
        "collapsed": false,
        "id": "_gmiffG8m_dT",
        "jupyter": {
          "outputs_hidden": false
        },
        "outputId": "1a354600-6bee-42a8-e4bd-8e7e31b48285"
      },
      "outputs": [],
      "source": [
        "dfcwci['name']=dfcwci['last_name']+\", \"+dfcwci['first_name']\n",
        "dfcwci.head(10)"
      ]
    },
    {
      "cell_type": "markdown",
      "metadata": {},
      "source": [
        "One can also use `assign`, which creates a new dataframe..."
      ]
    },
    {
      "cell_type": "code",
      "execution_count": 47,
      "metadata": {
        "colab": {
          "base_uri": "https://localhost:8080/",
          "height": 359
        },
        "collapsed": false,
        "id": "tdk2YKoDm_dT",
        "jupyter": {
          "outputs_hidden": false
        },
        "outputId": "0bca1f60-41b7-4e6a-96e9-ff185e652489"
      },
      "outputs": [],
      "source": [
        "newdf = dfcwci.assign(ucname=dfcwci.last_name+\":\"+dfcwci.first_name).head(10)\n",
        "newdf.head()"
      ]
    },
    {
      "cell_type": "markdown",
      "metadata": {
        "id": "vRRAAAKOm_dT"
      },
      "source": [
        "Will the above command actually change `dfcwci`? `assign` creates a whole new dataframe. The dictionary style assigns in memory.\n",
        "\n",
        "**What if we wanted to change an existing assignment?**\n",
        "\n",
        "In other words, we are not creating a new column, but rather changing the values associated with a column, based on some criterion"
      ]
    },
    {
      "cell_type": "code",
      "execution_count": 48,
      "metadata": {
        "colab": {
          "base_uri": "https://localhost:8080/",
          "height": 289
        },
        "collapsed": false,
        "id": "8rZ-Wm7Im_dU",
        "jupyter": {
          "outputs_hidden": false
        },
        "outputId": "d24f0dab-3646-437f-abab-9226b7e0d808"
      },
      "outputs": [],
      "source": [
        "dfcwci[dfcwci.state=='VA']"
      ]
    },
    {
      "cell_type": "markdown",
      "metadata": {},
      "source": [
        "Lets get the `name` column we just created..."
      ]
    },
    {
      "cell_type": "code",
      "execution_count": 49,
      "metadata": {
        "colab": {
          "base_uri": "https://localhost:8080/"
        },
        "collapsed": false,
        "id": "6rflzmQ3m_dU",
        "jupyter": {
          "outputs_hidden": false
        },
        "outputId": "b348fcbf-8672-46a6-8c23-0c65fddffe5d"
      },
      "outputs": [],
      "source": [
        "dfcwci.loc[dfcwci.state=='VA', 'name']"
      ]
    },
    {
      "cell_type": "markdown",
      "metadata": {},
      "source": [
        "Now we set the names from Virginia to be \"junk\":"
      ]
    },
    {
      "cell_type": "code",
      "execution_count": 50,
      "metadata": {
        "collapsed": false,
        "id": "zD3P8Q9Fm_dU",
        "jupyter": {
          "outputs_hidden": false
        }
      },
      "outputs": [],
      "source": [
        "dfcwci.loc[dfcwci.state=='VA', 'name']=\"junk\""
      ]
    },
    {
      "cell_type": "code",
      "execution_count": 51,
      "metadata": {
        "colab": {
          "base_uri": "https://localhost:8080/",
          "height": 204
        },
        "collapsed": false,
        "id": "pqFIQgwjm_dU",
        "jupyter": {
          "outputs_hidden": false
        },
        "outputId": "8074abb7-9173-4a33-d66b-af3ea1f3bf89"
      },
      "outputs": [],
      "source": [
        "dfcwci.query(\"state=='VA'\")['name']"
      ]
    },
    {
      "cell_type": "markdown",
      "metadata": {
        "id": "aTJPpLwlm_dV"
      },
      "source": [
        "---\n",
        "\n",
        "Let us see the entire process in SQL"
      ]
    },
    {
      "cell_type": "code",
      "execution_count": 52,
      "metadata": {
        "colab": {
          "base_uri": "https://localhost:8080/"
        },
        "collapsed": false,
        "id": "0ulRows1m_dV",
        "jupyter": {
          "outputs_hidden": false
        },
        "outputId": "73908fe8-2862-4b62-9193-96aec524076e"
      },
      "outputs": [],
      "source": [
        "alt=\"ALTER TABLE contributors ADD COLUMN name;\"\n",
        "db.cursor().execute(alt)\n",
        "db.commit()"
      ]
    },
    {
      "cell_type": "code",
      "execution_count": 53,
      "metadata": {
        "colab": {
          "base_uri": "https://localhost:8080/"
        },
        "collapsed": false,
        "id": "xWOhCaTsm_dV",
        "jupyter": {
          "outputs_hidden": false
        },
        "outputId": "e109111f-91cf-4458-d071-676d79fa525e"
      },
      "outputs": [],
      "source": [
        "make_query(\"PRAGMA table_info(contributors);\")"
      ]
    },
    {
      "cell_type": "code",
      "execution_count": 54,
      "metadata": {
        "colab": {
          "base_uri": "https://localhost:8080/"
        },
        "collapsed": false,
        "id": "SHISK8nTm_dV",
        "jupyter": {
          "outputs_hidden": false
        },
        "outputId": "bbbedd5e-0f74-4cfc-af4e-8b30abf0c11c"
      },
      "outputs": [],
      "source": [
        "out = make_query(\"SELECT id, last_name,first_name from contributors;\")\n",
        "out2 = [(e[1]+\", \"+e[2],e[0]) for e in out]\n",
        "out2[:5]"
      ]
    },
    {
      "cell_type": "code",
      "execution_count": 55,
      "metadata": {
        "collapsed": false,
        "id": "PUuc63sbm_dV",
        "jupyter": {
          "outputs_hidden": false
        }
      },
      "outputs": [],
      "source": [
        "alt2=\"UPDATE contributors SET name = ? WHERE id = ?;\"\n",
        "for ele in out2:\n",
        "    db.cursor().execute(alt2, ele)\n",
        "db.commit()"
      ]
    },
    {
      "cell_type": "code",
      "execution_count": 57,
      "metadata": {
        "colab": {
          "base_uri": "https://localhost:8080/",
          "height": 359
        },
        "collapsed": false,
        "id": "7iT_y-fem_dW",
        "jupyter": {
          "outputs_hidden": false
        },
        "outputId": "90b912d4-dedd-434c-80e5-5499b9800751"
      },
      "outputs": [],
      "source": [
        "out=make_query(\"SELECT * from contributors;\")\n",
        "print(out[0])\n",
        "make_frame(out,legend=contributor_cols+[\"name\"]).head(10)"
      ]
    },
    {
      "cell_type": "markdown",
      "metadata": {
        "id": "jfAckbbgm_dW"
      },
      "source": [
        "And lets now do an assignment to an existing column"
      ]
    },
    {
      "cell_type": "code",
      "execution_count": 58,
      "metadata": {
        "collapsed": false,
        "id": "2jqKMk4xm_dW",
        "jupyter": {
          "outputs_hidden": false
        }
      },
      "outputs": [],
      "source": [
        "upd=\"UPDATE contributors SET name = 'junk' WHERE state = 'VA';\"\n",
        "db.cursor().execute(upd)\n",
        "db.commit()"
      ]
    },
    {
      "cell_type": "code",
      "execution_count": 59,
      "metadata": {
        "colab": {
          "base_uri": "https://localhost:8080/",
          "height": 204
        },
        "collapsed": false,
        "id": "JISncr2lm_dW",
        "jupyter": {
          "outputs_hidden": false
        },
        "outputId": "7b8874e8-04ab-4ad7-c004-46e4882a1aec"
      },
      "outputs": [],
      "source": [
        "out=make_query(\"SELECT * from contributors where state='VA';\")\n",
        "make_frame(out,contributor_cols+[\"name\"]).head(10)"
      ]
    },
    {
      "cell_type": "markdown",
      "metadata": {
        "id": "evklgHvPm_dk"
      },
      "source": [
        "## Denormalization of Relationships: Two Table Grammar of Data\n",
        "\n",
        "We will soon see that to feed data to models, we want to denormalize it. Pointers to other tables make logical sense for storage, but not when we want to feed data, both for performance and array shape reasons. This denormalization is achived by a technique and a verb: JOIN.\n",
        "\n",
        "JOINs are Cartesian Products followed by filterings. They come in different varieties, and all pay attention to the \"left\" element in the join. The standard Pandas merge is an inner join, and often you will see it being done with 2 dataframes on a commonly named column.\n",
        "\n",
        "Here the `candidate_id` column in the contributors table is equivalent to the `id` in the candidate table, so we need to be explicit:"
      ]
    },
    {
      "cell_type": "code",
      "execution_count": 85,
      "metadata": {},
      "outputs": [],
      "source": [
        "dfcwci.shape, dfcand.shape"
      ]
    },
    {
      "cell_type": "code",
      "execution_count": 84,
      "metadata": {},
      "outputs": [],
      "source": [
        "dfcwci.merge(dfcand, left_on=\"candidate_id\", right_on=\"id\")"
      ]
    },
    {
      "cell_type": "markdown",
      "metadata": {},
      "source": [
        "This command repeats information about the candidate on each contributor to that candidate. Now you have a flat table.\n",
        "\n",
        "If you do it in the opposite direction, the result is symmetric, since the `id` is guaranteed to match the `candidate_id` in out case"
      ]
    },
    {
      "cell_type": "code",
      "execution_count": 86,
      "metadata": {},
      "outputs": [],
      "source": [
        "dfcand.merge(dfcwci, right_on=\"candidate_id\", left_on=\"id\")"
      ]
    },
    {
      "cell_type": "markdown",
      "metadata": {
        "id": "zMe6v6H2m_dr"
      },
      "source": [
        "### Explicit INNER JOIN\n",
        "\n",
        "The notion above (and the default) in Pandas is an inner join. Think of a cartesian product of the left table by the right one, 16 choices, followed by a drop of all the unmatched rows. Thus it gives us rows that are in both tables:\n",
        "\n",
        "![](images/innerjoin.png)\n",
        "\n",
        "(The set images are from http://blog.codinghorror.com/a-visual-explanation-of-sql-joins/ which also has a very nice description of these joins)."
      ]
    },
    {
      "cell_type": "markdown",
      "metadata": {
        "id": "JCVpmBHum_ds"
      },
      "source": [
        "![inner join](http://pandas.pydata.org/pandas-docs/stable/_images/merging_merge_on_key_inner.png)\n",
        "\n",
        "(from http://pandas.pydata.org/pandas-docs/stable/merging.html)"
      ]
    },
    {
      "cell_type": "code",
      "execution_count": 87,
      "metadata": {
        "colab": {
          "base_uri": "https://localhost:8080/",
          "height": 419
        },
        "collapsed": false,
        "id": "3XxtYGGTm_ds",
        "jupyter": {
          "outputs_hidden": false
        },
        "outputId": "f23e1b7d-598f-423e-9b49-af80d5fd01eb"
      },
      "outputs": [],
      "source": [
        "cols_wanted=['last_name_x', 'first_name_x', 'candidate_id', 'id', 'last_name_y']\n",
        "dfcwci.merge(dfcand, left_on=\"candidate_id\", right_on=\"id\")[cols_wanted]"
      ]
    },
    {
      "cell_type": "code",
      "execution_count": 88,
      "metadata": {
        "colab": {
          "base_uri": "https://localhost:8080/",
          "height": 204
        },
        "collapsed": false,
        "id": "OABUc5RQm_ds",
        "jupyter": {
          "outputs_hidden": false
        },
        "outputId": "12f65d99-d2eb-4d4c-809e-a79d6c24521d"
      },
      "outputs": [],
      "source": [
        "explicitjoinsel=\"\"\"\n",
        "SELECT \n",
        "    contributors.last_name, contributors.first_name, candidates.last_name \n",
        "FROM \n",
        "    contributors JOIN candidates \n",
        "ON contributors.candidate_id = candidates.id;\n",
        "\"\"\"\n",
        "out=make_query(explicitjoinsel)\n",
        "make_frame(out, legend=[\"contributors.last_name\", \n",
        "            \"contributors.first_name\",  \"candidates.last_name\"]).head()"
      ]
    },
    {
      "cell_type": "markdown",
      "metadata": {},
      "source": [
        "Here is an usage example:"
      ]
    },
    {
      "cell_type": "code",
      "execution_count": 89,
      "metadata": {
        "colab": {
          "base_uri": "https://localhost:8080/",
          "height": 266
        },
        "collapsed": false,
        "id": "d1Zba54nm_dt",
        "jupyter": {
          "outputs_hidden": false
        },
        "outputId": "4bc433fd-08d8-4ea1-da04-f9e229b685c6"
      },
      "outputs": [],
      "source": [
        "explicitjoinsel=\"\"\"\n",
        "SELECT \n",
        "    COUNT(contributors.id), contributors.first_name, candidates.last_name \n",
        "FROM \n",
        "    contributors JOIN candidates \n",
        "ON contributors.candidate_id = candidates.id\n",
        "\n",
        "GROUP BY candidates.last_name;\n",
        "\"\"\"\n",
        "out=make_query(explicitjoinsel)\n",
        "make_frame(out, legend=[\"count(contributors.id)\", \n",
        "            \"contributors.first_name\",  \"candidates.last_name\"])"
      ]
    },
    {
      "cell_type": "markdown",
      "metadata": {
        "id": "d42lPTTrHoZD"
      },
      "source": [
        "## Some Other Useful patterns"
      ]
    },
    {
      "cell_type": "markdown",
      "metadata": {
        "id": "Ih-TrCwzm_dn"
      },
      "source": [
        "### Simple subselect\n",
        "\n",
        "We do one \"select\" and then use that in another one..."
      ]
    },
    {
      "cell_type": "code",
      "execution_count": 96,
      "metadata": {
        "colab": {
          "base_uri": "https://localhost:8080/",
          "height": 204
        },
        "collapsed": false,
        "id": "xbmR06ldm_dn",
        "jupyter": {
          "outputs_hidden": false
        },
        "outputId": "64ce3d54-8011-4882-c3c8-9c3ab74fcfb7"
      },
      "outputs": [],
      "source": [
        "dfcand.head()"
      ]
    },
    {
      "cell_type": "code",
      "execution_count": 97,
      "metadata": {
        "collapsed": false,
        "id": "9nv61wd0m_dp",
        "jupyter": {
          "outputs_hidden": false
        }
      },
      "outputs": [],
      "source": [
        "obamaid=dfcand.query(\"last_name=='Obama'\")['id'].values[0]"
      ]
    },
    {
      "cell_type": "code",
      "execution_count": 98,
      "metadata": {
        "colab": {
          "base_uri": "https://localhost:8080/",
          "height": 204
        },
        "collapsed": false,
        "id": "u23DMD8sm_dp",
        "jupyter": {
          "outputs_hidden": false
        },
        "outputId": "eb46ee57-c23b-4fdb-f35d-069f8c418d3c"
      },
      "outputs": [],
      "source": [
        "obamacontrib=dfcwci.query(\"candidate_id==%i\" % obamaid)\n",
        "obamacontrib.head()"
      ]
    },
    {
      "cell_type": "markdown",
      "metadata": {},
      "source": [
        "The SQL syntax makes this look like a russian doll scenario where there is a select inside a select.."
      ]
    },
    {
      "cell_type": "code",
      "execution_count": 100,
      "metadata": {
        "colab": {
          "base_uri": "https://localhost:8080/",
          "height": 204
        },
        "collapsed": false,
        "id": "4sdIPsEqm_dq",
        "jupyter": {
          "outputs_hidden": false
        },
        "outputId": "a98f228a-40bd-4f13-b4a2-662594dc56cd"
      },
      "outputs": [],
      "source": [
        "russiandollsel=\"\"\"\n",
        "SELECT * FROM contributors WHERE \n",
        "    candidate_id = (SELECT id from candidates WHERE last_name = 'Obama');\n",
        "\"\"\"\n",
        "out=make_query(russiandollsel)\n",
        "make_frame(out, legend=contributor_cols)"
      ]
    },
    {
      "cell_type": "markdown",
      "metadata": {
        "id": "4PC5f7v1m_dq"
      },
      "source": [
        "### Implicit join\n",
        "\n",
        "This is a SQL only construct which is nevertheless an often seen pattern where we dont do an explicit inner join..."
      ]
    },
    {
      "cell_type": "code",
      "execution_count": 101,
      "metadata": {
        "colab": {
          "base_uri": "https://localhost:8080/",
          "height": 204
        },
        "collapsed": false,
        "id": "uP2Ky8Ikm_dq",
        "jupyter": {
          "outputs_hidden": false
        },
        "outputId": "fa7aa291-fbb6-4191-8e48-26228ece6763"
      },
      "outputs": [],
      "source": [
        "implicitjoinsel=\"\"\"\n",
        "SELECT \n",
        "    contributors.last_name, contributors.first_name, contributors.amount, candidates.last_name \n",
        "FROM \n",
        "    contributors, candidates \n",
        "WHERE contributors.candidate_id = candidates.id\n",
        "AND candidates.last_name = 'Obama';\n",
        "\"\"\"\n",
        "out=make_query(implicitjoinsel)\n",
        "make_frame(out, legend=[\"contributors.last_name\", \n",
        "            \"contributors.first_name\", \"contributors.amount\", \"candidates.last_name\"]).head()"
      ]
    },
    {
      "cell_type": "code",
      "execution_count": 106,
      "metadata": {
        "id": "pFaouLZRm_dx"
      },
      "outputs": [],
      "source": [
        "db.close()"
      ]
    }
  ]
}