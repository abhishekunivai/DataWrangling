{
  "metadata": {
    "anaconda-cloud": {},
    "kernelspec": {
      "display_name": "ml1-arm64",
      "language": "python",
      "name": "ml1-arm64"
    },
    "language_info": {
      "codemirror_mode": {
        "name": "ipython",
        "version": 3
      },
      "file_extension": ".py",
      "mimetype": "text/x-python",
      "name": "python",
      "nbconvert_exporter": "python",
      "pygments_lexer": "ipython3",
      "version": "3.9.1"
    }
  },
  "nbformat": 4,
  "nbformat_minor": 4,
  "cells": [
    {
      "cell_type": "markdown",
      "metadata": {},
      "source": [
        "# Do This Before Lab 1"
      ]
    },
    {
      "cell_type": "markdown",
      "metadata": {},
      "source": [
        "What python version do you have?\n",
        "\n",
        "This is how you can see the version in the jupyter interface"
      ]
    },
    {
      "cell_type": "code",
      "execution_count": 1,
      "metadata": {},
      "outputs": [],
      "source": [
        "import sys\n",
        "print(sys.version)"
      ]
    },
    {
      "cell_type": "markdown",
      "metadata": {},
      "source": [
        "If you've successfully completed the above install, skip to below the troubleshooting section. All of the statements there should run."
      ]
    },
    {
      "cell_type": "markdown",
      "metadata": {},
      "source": [
        "## Python Libraries\n",
        "\n",
        "Some of this code ought to be installed on your system. Check the others (commented), else we will need to install these soon!"
      ]
    },
    {
      "cell_type": "code",
      "execution_count": 4,
      "metadata": {},
      "outputs": [],
      "source": [
        "#IPython is what you are using now to run the notebook\n",
        "import IPython\n",
        "print(\"IPython version:      %6.6s\" % IPython.__version__)\n",
        "\n",
        "# Numpy is a library for working with Arrays\n",
        "import numpy as np\n",
        "print(\"Numpy version:        %6.6s\" % np.__version__)\n",
        "\n",
        "# SciPy implements many different numerical algorithms\n",
        "import scipy as sp\n",
        "print(\"SciPy version:        %6.6s\" % sp.__version__)\n",
        "\n",
        "# Pandas makes working with data tables easier\n",
        "import pandas as pd\n",
        "print(\"Pandas version:       %6.6s\" % pd.__version__)\n",
        "\n",
        "# Module for plotting\n",
        "import matplotlib\n",
        "print(\"Matplotlib version:    %6.6s\" % matplotlib.__version__)\n",
        "\n",
        "# SciKit Learn implements several Machine Learning algorithms\n",
        "import sklearn\n",
        "print(\"Scikit-Learn version: %6.6s\" % sklearn.__version__)\n",
        "\n",
        "# # Requests is a library for getting data from the Web\n",
        "# import requests\n",
        "# print(\"requests version:     %6.6s\" % requests.__version__)\n",
        "\n",
        "# #BeautifulSoup is a library to parse HTML and XML documents\n",
        "# import bs4\n",
        "# print(\"BeautifulSoup version:%6.6s\" % bs4.__version__)\n",
        "\n",
        "# import seaborn\n",
        "# print(\"Seaborn version:%6.6s\" % seaborn.__version__)"
      ]
    },
    {
      "cell_type": "markdown",
      "metadata": {},
      "source": [
        "If any of these libraries are missing you will need to install them and restart jupyter."
      ]
    },
    {
      "cell_type": "markdown",
      "metadata": {},
      "source": [
        "## Kicking the tires"
      ]
    },
    {
      "cell_type": "markdown",
      "metadata": {},
      "source": [
        "Lets try some things, starting from very simple, to more complex."
      ]
    },
    {
      "cell_type": "markdown",
      "metadata": {},
      "source": [
        "### Hello World"
      ]
    },
    {
      "cell_type": "markdown",
      "metadata": {},
      "source": [
        "The following is the incantation we like to put at the beginning of every notebook. It loads most of the stuff we will regularly use."
      ]
    },
    {
      "cell_type": "code",
      "execution_count": 5,
      "metadata": {},
      "outputs": [],
      "source": [
        "# The %... is an iPython thing, and is not part of the Python language.\n",
        "# In this case we're just telling the plotting library to draw things on\n",
        "# the notebook, instead of on a separate window.\n",
        "%matplotlib inline \n",
        "#this line above prepares the jupyter notebook for working with matplotlib\n",
        "\n",
        "# See all the \"as ...\" contructs? They're just aliasing the package names.\n",
        "# That way we can call methods like plt.plot() instead of matplotlib.pyplot.plot().\n",
        "# notice we use short aliases here, and these are conventional in the python community\n",
        "\n",
        "import numpy as np # imports a fast numerical programming library\n",
        "import scipy as sp #imports stats functions, amongst other things\n",
        "import matplotlib as mpl # this actually imports matplotlib\n",
        "import matplotlib.cm as cm # allows us easy access to colormaps\n",
        "import matplotlib.pyplot as plt # sets up plotting under plt\n",
        "import pandas as pd #lets us handle data as dataframes"
      ]
    },
    {
      "cell_type": "markdown",
      "metadata": {},
      "source": [
        "### Hello matplotlib"
      ]
    },
    {
      "cell_type": "markdown",
      "metadata": {},
      "source": [
        "The notebook integrates nicely with Matplotlib, the primary plotting package for python. This should embed a figure of a sine wave:"
      ]
    },
    {
      "cell_type": "code",
      "execution_count": 6,
      "metadata": {},
      "outputs": [],
      "source": [
        "x = np.linspace(0, 10, 30)  #array of 30 points from 0 to 10\n",
        "y = np.sin(x)\n",
        "z = y + np.random.normal(size=30) * .2\n",
        "plt.plot(x, y, 'o-', label='A sine wave')\n",
        "plt.plot(x, z, '-', label='Noisy sine')\n",
        "plt.legend(loc = 'lower right')\n",
        "plt.xlabel(\"X axis\")\n",
        "plt.ylabel(\"Y axis\")           "
      ]
    },
    {
      "cell_type": "markdown",
      "metadata": {},
      "source": [
        "### Hello Numpy"
      ]
    },
    {
      "cell_type": "markdown",
      "metadata": {},
      "source": [
        "The Numpy array processing library is the basis of nearly all numerical computing in Python. Here's a 30 second crash course. For more details, consult the [Numpy User's Guide](http://docs.scipy.org/doc/numpy-dev/user/index.html)"
      ]
    },
    {
      "cell_type": "code",
      "execution_count": 7,
      "metadata": {},
      "outputs": [],
      "source": [
        "print(\"Make a 3 row x 4 column array of random numbers\")\n",
        "x = np.random.random((3, 4))\n",
        "print(x,\"\\n\")\n",
        "\n",
        "\n",
        "print(\"Add 1 to every element\")\n",
        "x = x + 1\n",
        "print(x,\"\\n\")\n",
        "\n",
        "print(\"Get the element at row 1, column 2\")\n",
        "print(x[1, 2])\n",
        "\n",
        "# The colon syntax is called \"slicing\" the array. \n",
        "print(\"Get the first row\")\n",
        "print(x[0, :])\n",
        "\n",
        "print(\"Last 2 items in the first row\")\n",
        "print(x[0, -2:])\n",
        "\n",
        "print(\"Get every 2nd item in the first row\")\n",
        "print(x[0, ::2])"
      ]
    },
    {
      "cell_type": "markdown",
      "metadata": {},
      "source": [
        "Print the maximum, minimum, and mean of the array. This does **not** require writing a loop. In the code cell below, type `x.m<TAB>`, to find built-in operations for common array statistics like this"
      ]
    },
    {
      "cell_type": "code",
      "execution_count": 8,
      "metadata": {},
      "outputs": [],
      "source": [
        "print(\"Max is  \", x.max())\n",
        "print(\"Min is  \", x.min())\n",
        "print(\"Mean is \", x.mean())"
      ]
    },
    {
      "cell_type": "markdown",
      "metadata": {},
      "source": [
        "Call the `x.max` function again, but use the `axis` keyword to print the maximum of each row in x."
      ]
    },
    {
      "cell_type": "code",
      "execution_count": 9,
      "metadata": {},
      "outputs": [],
      "source": [
        "print(x.max(axis=1))"
      ]
    },
    {
      "cell_type": "markdown",
      "metadata": {},
      "source": [
        "Here's a way to quickly simulate 500 coin \"fair\" coin tosses (where the probabily of getting Heads is 50%, or 0.5)"
      ]
    },
    {
      "cell_type": "code",
      "execution_count": 10,
      "metadata": {},
      "outputs": [],
      "source": [
        "x = np.random.binomial(500, .5)\n",
        "print(\"number of heads:\", x)"
      ]
    },
    {
      "cell_type": "markdown",
      "metadata": {},
      "source": [
        "Repeat this simulation 500 times, and use the [plt.hist() function](http://matplotlib.org/api/pyplot_api.html#matplotlib.pyplot.hist) to plot a histogram of the number of Heads (1s) in each simulation"
      ]
    },
    {
      "cell_type": "code",
      "execution_count": 11,
      "metadata": {},
      "outputs": [],
      "source": [
        "# 3 ways to run the simulations\n",
        "\n",
        "# loop\n",
        "heads = []\n",
        "for i in range(500):\n",
        "    heads.append(np.random.binomial(500, .5))\n",
        "\n",
        "# \"list comprehension\"\n",
        "heads = [np.random.binomial(500, .5) for i in range(500)]\n",
        "\n",
        "# pure numpy, preferred\n",
        "heads = np.random.binomial(500, .5, size=500)\n",
        "\n",
        "histogram = plt.hist(heads, bins=10)"
      ]
    }
  ]
}